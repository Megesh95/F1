{
 "cells": [
  {
   "cell_type": "code",
   "execution_count": null,
   "id": "e5392e2e",
   "metadata": {},
   "outputs": [],
   "source": [
    "import pandas as pd\n",
    "import matplotlib.pyplot as plt\n",
    "df=pd.read_csv('D:/F1_Proj/data/processed/base_results.csv')\n",
    "\n",
    "total_wins=df[(df['driver_name']==\"Lewis Hamilton\") & (df['positionOrder']==1)]\n",
    "print(total_wins)"
   ]
  }
 ],
 "metadata": {
  "kernelspec": {
   "display_name": ".venv (3.13.1)",
   "language": "python",
   "name": "python3"
  },
  "language_info": {
   "codemirror_mode": {
    "name": "ipython",
    "version": 3
   },
   "file_extension": ".py",
   "mimetype": "text/x-python",
   "name": "python",
   "nbconvert_exporter": "python",
   "pygments_lexer": "ipython3",
   "version": "3.13.1"
  }
 },
 "nbformat": 4,
 "nbformat_minor": 5
}
