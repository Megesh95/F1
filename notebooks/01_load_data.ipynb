{
 "cells": [
  {
   "cell_type": "code",
   "execution_count": null,
   "id": "46099d30",
   "metadata": {},
   "outputs": [],
   "source": []
  },
  {
   "cell_type": "code",
   "execution_count": 7,
   "id": "3b58c0d4",
   "metadata": {},
   "outputs": [
    {
     "name": "stdout",
     "output_type": "stream",
     "text": [
      "\n",
      "🏁 Monaco Grand Prix at Circuit de Monaco - Top 10 Results:\n",
      "\n",
      "╒═════════════════╤═════════════════╤════════════════╕\n",
      "│   positionOrder │ driver_name     │ team           │\n",
      "╞═════════════════╪═════════════════╪════════════════╡\n",
      "│               1 │ Charles Leclerc │ Ferrari        │\n",
      "├─────────────────┼─────────────────┼────────────────┤\n",
      "│               2 │ Oscar Piastri   │ McLaren        │\n",
      "├─────────────────┼─────────────────┼────────────────┤\n",
      "│               3 │ Carlos Sainz    │ Ferrari        │\n",
      "├─────────────────┼─────────────────┼────────────────┤\n",
      "│               4 │ Lando Norris    │ McLaren        │\n",
      "├─────────────────┼─────────────────┼────────────────┤\n",
      "│               5 │ George Russell  │ Mercedes       │\n",
      "├─────────────────┼─────────────────┼────────────────┤\n",
      "│               6 │ Max Verstappen  │ Red Bull       │\n",
      "├─────────────────┼─────────────────┼────────────────┤\n",
      "│               7 │ Lewis Hamilton  │ Mercedes       │\n",
      "├─────────────────┼─────────────────┼────────────────┤\n",
      "│               8 │ Yuki Tsunoda    │ RB F1 Team     │\n",
      "├─────────────────┼─────────────────┼────────────────┤\n",
      "│               9 │ Alexander Albon │ Williams       │\n",
      "├─────────────────┼─────────────────┼────────────────┤\n",
      "│              10 │ Pierre Gasly    │ Alpine F1 Team │\n",
      "╘═════════════════╧═════════════════╧════════════════╛\n"
     ]
    }
   ],
   "source": [
    "#specific race results\n",
    "import pandas as pd\n",
    "from tabulate import tabulate\n",
    "RAW_DIR = 'D:/F1_Proj/data/raw'\n",
    "df=pd.read_csv('D:/F1_Proj/data/processed/base_results.csv')\n",
    "circuits = pd.read_csv(f'{RAW_DIR}/circuits.csv')\n",
    "\n",
    "# Merge with circuit info\n",
    "#merged = merged.merge(circuits[['circuitId', 'name']], on='circuitId', how='left')\n",
    "#merged = merged.rename(columns={'name': 'circuit_name'})\n",
    "\n",
    "results=df[(df['year']==2024) & (df['round']==8)]\n",
    "top10=results[results['positionOrder']<=10]\n",
    "if not top10.empty:\n",
    "    circuit = top10['circuit_name'].iloc[0]\n",
    "    race = top10['race_name'].iloc[0]\n",
    "    t1=top10[['positionOrder', 'driver_name', 'team']].sort_values(by='positionOrder')\n",
    "    print(f\"\\n🏁 {race} at {circuit} - Top 10 Results:\\n\")\n",
    "    print(tabulate(t1,headers='keys', tablefmt='fancy_grid', showindex=False))\n",
    "else:\n",
    "    print(\"😢 No data found for that round.\")\n",
    "\n"
   ]
  },
  {
   "cell_type": "code",
   "execution_count": null,
   "id": "363cbf30",
   "metadata": {},
   "outputs": [],
   "source": []
  },
  {
   "cell_type": "code",
   "execution_count": 8,
   "id": "0636e0cc",
   "metadata": {},
   "outputs": [
    {
     "name": "stdout",
     "output_type": "stream",
     "text": [
      "\n",
      "Drivers who finished in position 1 in 2024:\n",
      "\n",
      "╒═════════╤═══════════════════════════╤═════════════════╤══════════╕\n",
      "│   round │ race_name                 │ driver_name     │ team     │\n",
      "╞═════════╪═══════════════════════════╪═════════════════╪══════════╡\n",
      "│       1 │ Bahrain Grand Prix        │ Max Verstappen  │ Red Bull │\n",
      "├─────────┼───────────────────────────┼─────────────────┼──────────┤\n",
      "│       2 │ Saudi Arabian Grand Prix  │ Max Verstappen  │ Red Bull │\n",
      "├─────────┼───────────────────────────┼─────────────────┼──────────┤\n",
      "│       3 │ Australian Grand Prix     │ Carlos Sainz    │ Ferrari  │\n",
      "├─────────┼───────────────────────────┼─────────────────┼──────────┤\n",
      "│       4 │ Japanese Grand Prix       │ Max Verstappen  │ Red Bull │\n",
      "├─────────┼───────────────────────────┼─────────────────┼──────────┤\n",
      "│       5 │ Chinese Grand Prix        │ Max Verstappen  │ Red Bull │\n",
      "├─────────┼───────────────────────────┼─────────────────┼──────────┤\n",
      "│       6 │ Miami Grand Prix          │ Lando Norris    │ McLaren  │\n",
      "├─────────┼───────────────────────────┼─────────────────┼──────────┤\n",
      "│       7 │ Emilia Romagna Grand Prix │ Max Verstappen  │ Red Bull │\n",
      "├─────────┼───────────────────────────┼─────────────────┼──────────┤\n",
      "│       8 │ Monaco Grand Prix         │ Charles Leclerc │ Ferrari  │\n",
      "├─────────┼───────────────────────────┼─────────────────┼──────────┤\n",
      "│       9 │ Canadian Grand Prix       │ Max Verstappen  │ Red Bull │\n",
      "├─────────┼───────────────────────────┼─────────────────┼──────────┤\n",
      "│      10 │ Spanish Grand Prix        │ Max Verstappen  │ Red Bull │\n",
      "├─────────┼───────────────────────────┼─────────────────┼──────────┤\n",
      "│      11 │ Austrian Grand Prix       │ George Russell  │ Mercedes │\n",
      "├─────────┼───────────────────────────┼─────────────────┼──────────┤\n",
      "│      12 │ British Grand Prix        │ Lewis Hamilton  │ Mercedes │\n",
      "├─────────┼───────────────────────────┼─────────────────┼──────────┤\n",
      "│      13 │ Hungarian Grand Prix      │ Oscar Piastri   │ McLaren  │\n",
      "├─────────┼───────────────────────────┼─────────────────┼──────────┤\n",
      "│      14 │ Belgian Grand Prix        │ Lewis Hamilton  │ Mercedes │\n",
      "├─────────┼───────────────────────────┼─────────────────┼──────────┤\n",
      "│      15 │ Dutch Grand Prix          │ Lando Norris    │ McLaren  │\n",
      "├─────────┼───────────────────────────┼─────────────────┼──────────┤\n",
      "│      16 │ Italian Grand Prix        │ Charles Leclerc │ Ferrari  │\n",
      "├─────────┼───────────────────────────┼─────────────────┼──────────┤\n",
      "│      17 │ Azerbaijan Grand Prix     │ Oscar Piastri   │ McLaren  │\n",
      "├─────────┼───────────────────────────┼─────────────────┼──────────┤\n",
      "│      18 │ Singapore Grand Prix      │ Lando Norris    │ McLaren  │\n",
      "├─────────┼───────────────────────────┼─────────────────┼──────────┤\n",
      "│      19 │ United States Grand Prix  │ Charles Leclerc │ Ferrari  │\n",
      "├─────────┼───────────────────────────┼─────────────────┼──────────┤\n",
      "│      20 │ Mexico City Grand Prix    │ Carlos Sainz    │ Ferrari  │\n",
      "├─────────┼───────────────────────────┼─────────────────┼──────────┤\n",
      "│      21 │ São Paulo Grand Prix      │ Max Verstappen  │ Red Bull │\n",
      "├─────────┼───────────────────────────┼─────────────────┼──────────┤\n",
      "│      22 │ Las Vegas Grand Prix      │ George Russell  │ Mercedes │\n",
      "├─────────┼───────────────────────────┼─────────────────┼──────────┤\n",
      "│      23 │ Qatar Grand Prix          │ Max Verstappen  │ Red Bull │\n",
      "├─────────┼───────────────────────────┼─────────────────┼──────────┤\n",
      "│      24 │ Abu Dhabi Grand Prix      │ Lando Norris    │ McLaren  │\n",
      "╘═════════╧═══════════════════════════╧═════════════════╧══════════╛\n"
     ]
    }
   ],
   "source": [
    "#Season wins\n",
    "import pandas as pd\n",
    "from tabulate import tabulate\n",
    "def season_wins(year,pos):\n",
    "    df=pd.read_csv('D:/F1_Proj/data/processed/base_results.csv')\n",
    "\n",
    "    res=df[(df['year']==year) & (df['positionOrder']==pos)]\n",
    "    res = res[['round', 'race_name', 'driver_name', 'team']]\n",
    "    print(f\"\\nDrivers who finished in position {pos} in {year}:\\n\")\n",
    "    print(tabulate(res, headers='keys', tablefmt='fancy_grid', showindex=False))\n",
    "season_wins(2024,1)\n"
   ]
  },
  {
   "cell_type": "code",
   "execution_count": 9,
   "id": "2bbb3629",
   "metadata": {},
   "outputs": [
    {
     "name": "stdout",
     "output_type": "stream",
     "text": [
      "Charles Leclerc career wins: 8\n",
      "╒══════════════════════════╤════════╕\n",
      "│ race_name                │   year │\n",
      "╞══════════════════════════╪════════╡\n",
      "│ Belgian Grand Prix       │   2019 │\n",
      "├──────────────────────────┼────────┤\n",
      "│ Italian Grand Prix       │   2019 │\n",
      "├──────────────────────────┼────────┤\n",
      "│ Bahrain Grand Prix       │   2022 │\n",
      "├──────────────────────────┼────────┤\n",
      "│ Australian Grand Prix    │   2022 │\n",
      "├──────────────────────────┼────────┤\n",
      "│ Austrian Grand Prix      │   2022 │\n",
      "├──────────────────────────┼────────┤\n",
      "│ Monaco Grand Prix        │   2024 │\n",
      "├──────────────────────────┼────────┤\n",
      "│ Italian Grand Prix       │   2024 │\n",
      "├──────────────────────────┼────────┤\n",
      "│ United States Grand Prix │   2024 │\n",
      "╘══════════════════════════╧════════╛\n"
     ]
    }
   ],
   "source": [
    "#Driver wins\n",
    "import pandas as pd\n",
    "from tabulate import tabulate\n",
    "df=pd.read_csv('D:/F1_Proj/data/processed/base_results.csv')\n",
    "res=df[(df['driver_name']==\"Charles Leclerc\")&(df['positionOrder']==1)]\n",
    "wins_count = len(res)\n",
    "print(f\"Charles Leclerc career wins: {wins_count}\")\n",
    "print(tabulate(res[['race_name','year']],headers='keys', tablefmt='fancy_grid', showindex=False))\n",
    "\n"
   ]
  },
  {
   "cell_type": "code",
   "execution_count": 10,
   "id": "2be28c9a",
   "metadata": {},
   "outputs": [
    {
     "name": "stdout",
     "output_type": "stream",
     "text": [
      "Mercedes total wins : 1\n",
      "╒════════════════════╤════════╤══════════════════╕\n",
      "│ race_name          │   year │ driver_name      │\n",
      "╞════════════════════╪════════╪══════════════════╡\n",
      "│ Italian Grand Prix │   2008 │ Sebastian Vettel │\n",
      "╘════════════════════╧════════╧══════════════════╛\n"
     ]
    }
   ],
   "source": [
    "import pandas as pd\n",
    "from tabulate import tabulate\n",
    "df=pd.read_csv('D:/F1_Proj/data/processed/base_results.csv')\n",
    "res=df[(df['team']==\"Toro Rosso\")&(df['positionOrder']==1)]\n",
    "wins=len(res)\n",
    "print(f\"Mercedes total wins : {wins}\")\n",
    "print(tabulate(res[['race_name','year','driver_name']],headers='keys', tablefmt='fancy_grid', showindex=False))\n",
    "\n"
   ]
  }
 ],
 "metadata": {
  "kernelspec": {
   "display_name": ".venv (3.13.1)",
   "language": "python",
   "name": "python3"
  },
  "language_info": {
   "codemirror_mode": {
    "name": "ipython",
    "version": 3
   },
   "file_extension": ".py",
   "mimetype": "text/x-python",
   "name": "python",
   "nbconvert_exporter": "python",
   "pygments_lexer": "ipython3",
   "version": "3.13.1"
  }
 },
 "nbformat": 4,
 "nbformat_minor": 5
}
