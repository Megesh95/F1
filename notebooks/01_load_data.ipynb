{
 "cells": [
  {
   "cell_type": "code",
   "execution_count": 27,
   "id": "46099d30",
   "metadata": {},
   "outputs": [
    {
     "name": "stdout",
     "output_type": "stream",
     "text": [
      "✅ Merged and labeled dataset saved to: base_results.csv\n"
     ]
    }
   ],
   "source": [
    "import pandas as pd\n",
    "import os\n",
    "\n",
    "# Paths\n",
    "RAW_DIR = 'D:/F1_Proj/data/raw'\n",
    "PROCESSED_DIR = 'D:/F1_Proj/data/processed'\n",
    "os.makedirs(PROCESSED_DIR, exist_ok=True)\n",
    "\n",
    "# Load datasets\n",
    "results = pd.read_csv(f'{RAW_DIR}/results.csv')\n",
    "races = pd.read_csv(f'{RAW_DIR}/races.csv')\n",
    "drivers = pd.read_csv(f'{RAW_DIR}/drivers.csv')\n",
    "constructors = pd.read_csv(f'{RAW_DIR}/constructors.csv')\n",
    "circuits = pd.read_csv(f'{RAW_DIR}/circuits.csv')\n",
    "\n",
    "\n",
    "# Merge results with race data to get year and round info\n",
    "merged = results.merge(races[['raceId', 'year', 'round', 'circuitId', 'name']], on='raceId', how='left')\n",
    "merged = merged.rename(columns={'name': 'race_name'})\n",
    "\n",
    "merged = merged.merge(circuits[['circuitId', 'name']], on='circuitId', how='left')\n",
    "merged = merged.rename(columns={'name': 'circuit_name'})\n",
    "# Merge with driver info only if not already present\n",
    "driver_cols = ['forename', 'surname', 'nationality']\n",
    "missing_driver_cols = [col for col in driver_cols if col not in merged.columns]\n",
    "\n",
    "if missing_driver_cols:\n",
    "    merged = merged.merge(\n",
    "        drivers[['driverId'] + missing_driver_cols],\n",
    "        on='driverId',\n",
    "        how='left'\n",
    "    )\n",
    "\n",
    "# Merge with constructor info, rename team\n",
    "merged = merged.merge(\n",
    "    constructors[['constructorId', 'name']],\n",
    "    on='constructorId',\n",
    "    how='left'\n",
    ").rename(columns={'name': 'team'})\n",
    "\n",
    "# Add full name\n",
    "merged['driver_name'] = merged['forename'] + ' ' + merged['surname']\n",
    "\n",
    "# Build target label\n",
    "merged['top_10_finish'] = merged['positionOrder'].apply(lambda x: 1 if x <= 10 else 0)\n",
    "\n",
    "# Select useful columns for ML\n",
    "selected = merged[[\n",
    "    'raceId', 'driverId', 'constructorId', 'year', 'round', 'circuitId',\n",
    "    'grid', 'positionOrder', 'points', 'fastestLap', 'fastestLapSpeed',\n",
    "    'driver_name', 'team', 'nationality', 'top_10_finish'\n",
    "]]\n",
    "\n",
    "# Save cleaned dataset\n",
    "selected.to_csv(f'{PROCESSED_DIR}/base_results.csv', index=False)\n",
    "print(\"✅ Merged and labeled dataset saved to: base_results.csv\")\n"
   ]
  },
  {
   "cell_type": "code",
   "execution_count": null,
   "id": "3b58c0d4",
   "metadata": {},
   "outputs": [
    {
     "ename": "KeyError",
     "evalue": "'circuit_name'",
     "output_type": "error",
     "traceback": [
      "\u001b[31m---------------------------------------------------------------------------\u001b[39m",
      "\u001b[31mKeyError\u001b[39m                                  Traceback (most recent call last)",
      "\u001b[36mFile \u001b[39m\u001b[32md:\\F1_Proj\\.venv\\Lib\\site-packages\\pandas\\core\\indexes\\base.py:3812\u001b[39m, in \u001b[36mIndex.get_loc\u001b[39m\u001b[34m(self, key)\u001b[39m\n\u001b[32m   3811\u001b[39m \u001b[38;5;28;01mtry\u001b[39;00m:\n\u001b[32m-> \u001b[39m\u001b[32m3812\u001b[39m     \u001b[38;5;28;01mreturn\u001b[39;00m \u001b[38;5;28;43mself\u001b[39;49m\u001b[43m.\u001b[49m\u001b[43m_engine\u001b[49m\u001b[43m.\u001b[49m\u001b[43mget_loc\u001b[49m\u001b[43m(\u001b[49m\u001b[43mcasted_key\u001b[49m\u001b[43m)\u001b[49m\n\u001b[32m   3813\u001b[39m \u001b[38;5;28;01mexcept\u001b[39;00m \u001b[38;5;167;01mKeyError\u001b[39;00m \u001b[38;5;28;01mas\u001b[39;00m err:\n",
      "\u001b[36mFile \u001b[39m\u001b[32mpandas/_libs/index.pyx:167\u001b[39m, in \u001b[36mpandas._libs.index.IndexEngine.get_loc\u001b[39m\u001b[34m()\u001b[39m\n",
      "\u001b[36mFile \u001b[39m\u001b[32mpandas/_libs/index.pyx:196\u001b[39m, in \u001b[36mpandas._libs.index.IndexEngine.get_loc\u001b[39m\u001b[34m()\u001b[39m\n",
      "\u001b[36mFile \u001b[39m\u001b[32mpandas/_libs/hashtable_class_helper.pxi:7088\u001b[39m, in \u001b[36mpandas._libs.hashtable.PyObjectHashTable.get_item\u001b[39m\u001b[34m()\u001b[39m\n",
      "\u001b[36mFile \u001b[39m\u001b[32mpandas/_libs/hashtable_class_helper.pxi:7096\u001b[39m, in \u001b[36mpandas._libs.hashtable.PyObjectHashTable.get_item\u001b[39m\u001b[34m()\u001b[39m\n",
      "\u001b[31mKeyError\u001b[39m: 'circuit_name'",
      "\nThe above exception was the direct cause of the following exception:\n",
      "\u001b[31mKeyError\u001b[39m                                  Traceback (most recent call last)",
      "\u001b[36mCell\u001b[39m\u001b[36m \u001b[39m\u001b[32mIn[28]\u001b[39m\u001b[32m, line 8\u001b[39m\n\u001b[32m      6\u001b[39m top10=results[results[\u001b[33m'\u001b[39m\u001b[33mpositionOrder\u001b[39m\u001b[33m'\u001b[39m]<=\u001b[32m10\u001b[39m]\n\u001b[32m      7\u001b[39m \u001b[38;5;28;01mif\u001b[39;00m \u001b[38;5;129;01mnot\u001b[39;00m top10.empty:\n\u001b[32m----> \u001b[39m\u001b[32m8\u001b[39m     circuit = \u001b[43mtop10\u001b[49m\u001b[43m[\u001b[49m\u001b[33;43m'\u001b[39;49m\u001b[33;43mcircuit_name\u001b[39;49m\u001b[33;43m'\u001b[39;49m\u001b[43m]\u001b[49m.iloc[\u001b[32m0\u001b[39m]\n\u001b[32m      9\u001b[39m     race = top10[\u001b[33m'\u001b[39m\u001b[33mrace_name\u001b[39m\u001b[33m'\u001b[39m].iloc[\u001b[32m0\u001b[39m]\n\u001b[32m     10\u001b[39m     \u001b[38;5;28mprint\u001b[39m(\u001b[33mf\u001b[39m\u001b[33m\"\u001b[39m\u001b[38;5;130;01m\\n\u001b[39;00m\u001b[33m🏁 \u001b[39m\u001b[38;5;132;01m{\u001b[39;00mrace\u001b[38;5;132;01m}\u001b[39;00m\u001b[33m at \u001b[39m\u001b[38;5;132;01m{\u001b[39;00mcircuit\u001b[38;5;132;01m}\u001b[39;00m\u001b[33m - Top 10 Results:\u001b[39m\u001b[38;5;130;01m\\n\u001b[39;00m\u001b[33m\"\u001b[39m)\n",
      "\u001b[36mFile \u001b[39m\u001b[32md:\\F1_Proj\\.venv\\Lib\\site-packages\\pandas\\core\\frame.py:4107\u001b[39m, in \u001b[36mDataFrame.__getitem__\u001b[39m\u001b[34m(self, key)\u001b[39m\n\u001b[32m   4105\u001b[39m \u001b[38;5;28;01mif\u001b[39;00m \u001b[38;5;28mself\u001b[39m.columns.nlevels > \u001b[32m1\u001b[39m:\n\u001b[32m   4106\u001b[39m     \u001b[38;5;28;01mreturn\u001b[39;00m \u001b[38;5;28mself\u001b[39m._getitem_multilevel(key)\n\u001b[32m-> \u001b[39m\u001b[32m4107\u001b[39m indexer = \u001b[38;5;28;43mself\u001b[39;49m\u001b[43m.\u001b[49m\u001b[43mcolumns\u001b[49m\u001b[43m.\u001b[49m\u001b[43mget_loc\u001b[49m\u001b[43m(\u001b[49m\u001b[43mkey\u001b[49m\u001b[43m)\u001b[49m\n\u001b[32m   4108\u001b[39m \u001b[38;5;28;01mif\u001b[39;00m is_integer(indexer):\n\u001b[32m   4109\u001b[39m     indexer = [indexer]\n",
      "\u001b[36mFile \u001b[39m\u001b[32md:\\F1_Proj\\.venv\\Lib\\site-packages\\pandas\\core\\indexes\\base.py:3819\u001b[39m, in \u001b[36mIndex.get_loc\u001b[39m\u001b[34m(self, key)\u001b[39m\n\u001b[32m   3814\u001b[39m     \u001b[38;5;28;01mif\u001b[39;00m \u001b[38;5;28misinstance\u001b[39m(casted_key, \u001b[38;5;28mslice\u001b[39m) \u001b[38;5;129;01mor\u001b[39;00m (\n\u001b[32m   3815\u001b[39m         \u001b[38;5;28misinstance\u001b[39m(casted_key, abc.Iterable)\n\u001b[32m   3816\u001b[39m         \u001b[38;5;129;01mand\u001b[39;00m \u001b[38;5;28many\u001b[39m(\u001b[38;5;28misinstance\u001b[39m(x, \u001b[38;5;28mslice\u001b[39m) \u001b[38;5;28;01mfor\u001b[39;00m x \u001b[38;5;129;01min\u001b[39;00m casted_key)\n\u001b[32m   3817\u001b[39m     ):\n\u001b[32m   3818\u001b[39m         \u001b[38;5;28;01mraise\u001b[39;00m InvalidIndexError(key)\n\u001b[32m-> \u001b[39m\u001b[32m3819\u001b[39m     \u001b[38;5;28;01mraise\u001b[39;00m \u001b[38;5;167;01mKeyError\u001b[39;00m(key) \u001b[38;5;28;01mfrom\u001b[39;00m\u001b[38;5;250m \u001b[39m\u001b[34;01merr\u001b[39;00m\n\u001b[32m   3820\u001b[39m \u001b[38;5;28;01mexcept\u001b[39;00m \u001b[38;5;167;01mTypeError\u001b[39;00m:\n\u001b[32m   3821\u001b[39m     \u001b[38;5;66;03m# If we have a listlike key, _check_indexing_error will raise\u001b[39;00m\n\u001b[32m   3822\u001b[39m     \u001b[38;5;66;03m#  InvalidIndexError. Otherwise we fall through and re-raise\u001b[39;00m\n\u001b[32m   3823\u001b[39m     \u001b[38;5;66;03m#  the TypeError.\u001b[39;00m\n\u001b[32m   3824\u001b[39m     \u001b[38;5;28mself\u001b[39m._check_indexing_error(key)\n",
      "\u001b[31mKeyError\u001b[39m: 'circuit_name'"
     ]
    }
   ],
   "source": [
    "import pandas as pd\n",
    "\n",
    "df=pd.read_csv('D:/F1_Proj/data/processed/base_results.csv')\n",
    "circuits = pd.read_csv(f'{RAW_DIR}/circuits.csv')\n",
    "\n",
    "# Merge with circuit info\n",
    "merged = merged.merge(circuits[['circuitId', 'name']], on='circuitId', how='left')\n",
    "merged = merged.rename(columns={'name': 'circuit_name'})\n",
    "\n",
    "results=df[(df['year']==2024) & (df['round']==15)]\n",
    "top10=results[results['positionOrder']<=10]\n",
    "if not top10.empty:\n",
    "    circuit = top10['circuit_name'].iloc[0]\n",
    "    race = top10['race_name'].iloc[0]\n",
    "    print(f\"\\n🏁 {race} at {circuit} - Top 10 Results:\\n\")\n",
    "    print(top10[['positionOrder', 'driver_name', 'team']].sort_values(by='positionOrder'))\n",
    "else:\n",
    "    print(\"😢 No data found for that round.\")\n",
    "\n"
   ]
  },
  {
   "cell_type": "code",
   "execution_count": null,
   "id": "2bbb3629",
   "metadata": {},
   "outputs": [],
   "source": [
    "\n"
   ]
  }
 ],
 "metadata": {
  "kernelspec": {
   "display_name": ".venv (3.13.1)",
   "language": "python",
   "name": "python3"
  },
  "language_info": {
   "codemirror_mode": {
    "name": "ipython",
    "version": 3
   },
   "file_extension": ".py",
   "mimetype": "text/x-python",
   "name": "python",
   "nbconvert_exporter": "python",
   "pygments_lexer": "ipython3",
   "version": "3.13.1"
  }
 },
 "nbformat": 4,
 "nbformat_minor": 5
}
